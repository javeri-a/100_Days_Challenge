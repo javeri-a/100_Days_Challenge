{
  "nbformat": 4,
  "nbformat_minor": 0,
  "metadata": {
    "colab": {
      "provenance": [],
      "authorship_tag": "ABX9TyN/gAh71/L+cLlapzLfDOcy",
      "include_colab_link": true
    },
    "kernelspec": {
      "name": "python3",
      "display_name": "Python 3"
    },
    "language_info": {
      "name": "python"
    }
  },
  "cells": [
    {
      "cell_type": "markdown",
      "metadata": {
        "id": "view-in-github",
        "colab_type": "text"
      },
      "source": [
        "<a href=\"https://colab.research.google.com/github/javeri-a/100_Days_Challenge/blob/main/while_loop.ipynb\" target=\"_parent\"><img src=\"https://colab.research.google.com/assets/colab-badge.svg\" alt=\"Open In Colab\"/></a>"
      ]
    },
    {
      "cell_type": "code",
      "source": [
        "count = 0\n",
        "while count < 9 :\n",
        "    print(\"Python: Simple, powerful, and the key to endless possibilities! \")\n",
        "    count += 1"
      ],
      "metadata": {
        "colab": {
          "base_uri": "https://localhost:8080/"
        },
        "id": "2r4VJ2YZMwHI",
        "outputId": "4233a245-0dda-40d1-9f40-840824764c3d"
      },
      "execution_count": 12,
      "outputs": [
        {
          "output_type": "stream",
          "name": "stdout",
          "text": [
            "Python: Simple, powerful, and the key to endless possibilities! \n",
            "Python: Simple, powerful, and the key to endless possibilities! \n",
            "Python: Simple, powerful, and the key to endless possibilities! \n",
            "Python: Simple, powerful, and the key to endless possibilities! \n",
            "Python: Simple, powerful, and the key to endless possibilities! \n",
            "Python: Simple, powerful, and the key to endless possibilities! \n",
            "Python: Simple, powerful, and the key to endless possibilities! \n",
            "Python: Simple, powerful, and the key to endless possibilities! \n",
            "Python: Simple, powerful, and the key to endless possibilities! \n"
          ]
        }
      ]
    }
  ]
}